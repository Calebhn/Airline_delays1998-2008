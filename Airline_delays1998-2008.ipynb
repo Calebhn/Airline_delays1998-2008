{
 "cells": [
  {
   "cell_type": "code",
   "execution_count": 1,
   "metadata": {},
   "outputs": [],
   "source": [
    "import time, IPython\n",
    "import numpy as np\n",
    "import pandas as pd\n",
    "import matplotlib.pyplot as plt\n",
    "from sklearn.linear_model import LinearRegression\n",
    "from sklearn.model_selection import train_test_split\n",
    "from sklearn.metrics import r2_score, mean_squared_error\n",
    "import seaborn as sns\n",
    "%matplotlib inline\n",
    "\n",
    "df = pd.read_csv('./airline.csv.shuffle',chunksize=10**6,                      \n",
    "                   iterator=True,                              \n",
    "                   encoding='iso8859-1')"
   ]
  },
  {
   "cell_type": "code",
   "execution_count": 2,
   "metadata": {},
   "outputs": [
    {
     "name": "stdout",
     "output_type": "stream",
     "text": [
      "Processing Chunk No. 0\n",
      "Processing Chunk No. 20\n",
      "Processing Chunk No. 40\n",
      "Processing Chunk No. 60\n",
      "Processing Chunk No. 80\n",
      "Processing Chunk No. 100\n",
      "Processing Chunk No. 120\n",
      "the program costs 448.95 seconds\n",
      "The DataFrame takes up 2.83e+02 MB\n",
      "train has 1235350 rows and 29 columns\n"
     ]
    }
   ],
   "source": [
    "\n",
    "def print_mem_usage(df):\n",
    "    mem = df.memory_usage().sum() / 1024 ** 2\n",
    "    print('The DataFrame takes up {:.3} MB'.format(mem))\n",
    "\n",
    "train = pd.DataFrame()\n",
    "start=time.time()  \n",
    "for i, chunk in enumerate(df): \n",
    "    train = pd.concat([train, chunk.sample(frac=.005, replace=False, random_state=213) ], axis=0)  \n",
    "    if i % 20 == 0:\n",
    "        print('Processing Chunk No. {}'.format(i))  \n",
    "print('the program costs %.2f seconds'%(time.time() - start))\n",
    "    \n",
    "print_mem_usage(train)\n",
    "print('train has {} rows and {} columns'.format(train.shape[0], train.shape[1]))\n",
    "\n",
    "train.to_csv('airline.csv', index=False)"
   ]
  },
  {
   "cell_type": "code",
   "execution_count": null,
   "metadata": {},
   "outputs": [],
   "source": []
  }
 ],
 "metadata": {
  "kernelspec": {
   "display_name": "Python 3",
   "language": "python",
   "name": "python3"
  },
  "language_info": {
   "codemirror_mode": {
    "name": "ipython",
    "version": 3
   },
   "file_extension": ".py",
   "mimetype": "text/x-python",
   "name": "python",
   "nbconvert_exporter": "python",
   "pygments_lexer": "ipython3",
   "version": "3.7.6"
  }
 },
 "nbformat": 4,
 "nbformat_minor": 4
}
